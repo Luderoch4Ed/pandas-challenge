{
 "cells": [
  {
   "cell_type": "markdown",
   "metadata": {},
   "source": [
    "### Note\n",
    "* Instructions have been included for each segment. You do not have to follow them exactly, but they are included to help you think through the steps."
   ]
  },
  {
   "cell_type": "code",
   "execution_count": null,
   "metadata": {},
   "outputs": [],
   "source": [
    "# Dependencies and Setup\n",
    "import os \n",
    "import csv\n",
    "import pandas as pd\n",
    "import numpy as nd\n",
    "\n",
    "# File to Load (Remember to Change These)\n",
    "#file_to_load = \"Resources/purchase_data.csv\"\n",
    "csvpath = os.path.join('..', 'Resources', 'purchase_data.csv')\n",
    "\n",
    "# Read Purchasing File and store into Pandas data frame\n",
    "heroes_data_df = pd.read_csv(csvpath)\n",
    "\n",
    "#Gender_group_df = heroes_data_df.groupby([\"Gender\"])\n",
    "#Gender_group_df.head()\n",
    "#heroes_data_df.count()"
   ]
  },
  {
   "cell_type": "markdown",
   "metadata": {},
   "source": [
    "## Player Count"
   ]
  },
  {
   "cell_type": "markdown",
   "metadata": {},
   "source": [
    "* Display the total number of players\n"
   ]
  },
  {
   "cell_type": "code",
   "execution_count": null,
   "metadata": {},
   "outputs": [],
   "source": [
    "#Total player count\n",
    "Total_Players = heroes_data_df['SN'].nunique()\n",
    "Total_Players_df = pd.DataFrame({'Total Players':[Total_Players]})\n",
    "Total_Players_df"
   ]
  },
  {
   "cell_type": "markdown",
   "metadata": {},
   "source": [
    "## Purchasing Analysis (Total)"
   ]
  },
  {
   "cell_type": "markdown",
   "metadata": {},
   "source": [
    "* Run basic calculations to obtain number of unique items, average price, etc.\n",
    "\n",
    "\n",
    "* Create a summary data frame to hold the results\n",
    "\n",
    "\n",
    "* Optional: give the displayed data cleaner formatting\n",
    "\n",
    "\n",
    "* Display the summary data frame\n"
   ]
  },
  {
   "cell_type": "code",
   "execution_count": null,
   "metadata": {
    "scrolled": true
   },
   "outputs": [],
   "source": [
    "#Calcualte summury data \n",
    "Item_count = len(heroes_data_df[\"Item ID\"].unique())\n",
    "count = heroes_data_df[\"Gender\"].count()\n",
    "trans_count = len(heroes_data_df[\"Purchase ID\"])\n",
    "Avg_price = heroes_data_df[\"Price\"].mean()\n",
    "Total_Sales = heroes_data_df[\"Price\"].sum()\n",
    "Gender_Perc = (len(heroes_data_df[\"SN\"].unique())/Item_count) * 100\n",
    "\n",
    "Purchase_Summary = pd.DataFrame({  \n",
    "                              #\"Number of Players\": [player_count],\n",
    "                              \"Number of Unique Items\": [Item_count],\n",
    "                              \"Average Price\": f\"$ {Avg_price:.3}\",\n",
    "                              \"Number of Transaction\": trans_count,\n",
    "                              \"Total Revenue\": f\"$ {Total_Sales:.6}\"})\n",
    "Purchase_Summary"
   ]
  },
  {
   "cell_type": "markdown",
   "metadata": {},
   "source": [
    "## Gender Demographics"
   ]
  },
  {
   "cell_type": "markdown",
   "metadata": {},
   "source": [
    "* Percentage and Count of Male Players\n",
    "\n",
    "\n",
    "* Percentage and Count of Female Players\n",
    "\n",
    "\n",
    "* Percentage and Count of Other / Non-Disclosed\n",
    "\n",
    "\n"
   ]
  },
  {
   "cell_type": "code",
   "execution_count": null,
   "metadata": {},
   "outputs": [],
   "source": [
    "# Gender Demograpichs Calcualtion\n",
    "#gender_df = pd.DataFrame({\"Total_counts\": heroes_data_df[\"Gender\"].value_counts()})\n",
    "#gender_df[\"Percent of Players\"] = (gender_df[\"Total_counts\"]/gender_df[\"Total_counts\"].sum()).map(\"{:,.2%}\".format)\n",
    "\n",
    "#gender_df\n",
    "gender_count = heroes_data_df.groupby('Gender')['SN']\n",
    "unique_gender = gender_count.nunique()\n",
    "MaleCnts = unique_gender['Male']\n",
    "FemaleCnts = unique_gender['Female']\n",
    "OtherCnts = unique_gender['Other / Non-Disclosed']\n",
    "\n",
    "#Calculate gender percentage\n",
    "perc_male = (MaleCnts/Total_Players) * 100\n",
    "perc_female = (FemaleCnts/Total_Players) * 100\n",
    "perc_Other = (OtherCnts/Total_Players) * 100\n",
    "\n",
    "#Create DataFrame to output and format gender summaries\n",
    "gender_df = pd.DataFrame({\n",
    "    'Gender':['Male','Female','Other / Non-Disclosed'],\n",
    "    'Total Count':[MaleCnts,FemaleCnts,OtherCnts],\n",
    "    'Percentage of Players':[perc_male,perc_female,perc_Other]\n",
    "})\n",
    "gender_df['Total Count'] = gender_df['Total Count'].map(\"{:.2f}\".format)\n",
    "gender_df['Percentage of Players'] = gender_df['Percentage of Players'].map(\"{:.2f}%\".format)\n",
    "gender_df = gender_df.set_index('Gender')\n",
    "gender_df.index.name\n",
    "gender_df\n"
   ]
  },
  {
   "cell_type": "markdown",
   "metadata": {},
   "source": [
    "\n",
    "## Purchasing Analysis (Gender)"
   ]
  },
  {
   "cell_type": "markdown",
   "metadata": {},
   "source": [
    "* Run basic calculations to obtain purchase count, avg. purchase price, avg. purchase total per person etc. by gender\n",
    "\n",
    "\n",
    "\n",
    "\n",
    "* Create a summary data frame to hold the results\n",
    "\n",
    "\n",
    "* Optional: give the displayed data cleaner formatting\n",
    "\n",
    "\n",
    "* Display the summary data frame"
   ]
  },
  {
   "cell_type": "code",
   "execution_count": null,
   "metadata": {},
   "outputs": [],
   "source": [
    "# Generate purchase analysis by Gender type\n",
    "gender_trans_count = heroes_data_df.groupby('Gender')['Purchase ID']\n",
    "trans_count= gender_trans_count.count()\n",
    "trans_count_f= trans_count['Female']\n",
    "trans_count_m= trans_count['Male']\n",
    "trans_count_o= trans_count['Other / Non-Disclosed']\n",
    "\n",
    "gender_trans_price = heroes_data_df.groupby('Gender')['Price']\n",
    "trans_sum = gender_trans_price.sum()\n",
    "trans_summ_f = trans_sum['Female']\n",
    "trans_summ_m = trans_sum['Male']\n",
    "trans_summ_o = trans_sum['Other / Non-Disclosed']\n",
    "\n",
    "trans_mean = gender_trans_price.mean()\n",
    "trans_mean_f = trans_mean['Female']\n",
    "trans_mean_m = trans_mean['Male']\n",
    "trans_mean_o = trans_mean['Other / Non-Disclosed']\n",
    "\n",
    "avg_trans_price_f = trans_summ_f / FemaleCnts\n",
    "avg_trans_price_m = trans_summ_m / MaleCnts\n",
    "avg_trans_price_o = trans_summ_o / OtherCnts\n",
    "\n",
    "gender_purchase_analysis = pd.DataFrame({\n",
    "    'Gender':['Female','Male','Other Non-Disclosed'],\n",
    "    'Purchase Count':[trans_count_f,trans_count_m,trans_count_o],\n",
    "    'Average Purchase Price':[trans_mean_f,trans_mean_m,trans_mean_o],\n",
    "    'Total Purchase Value':[trans_summ_f,trans_summ_m,trans_summ_o],\n",
    "    'Avg Total Purchase per Person': [avg_trans_price_f,avg_trans_price_m,avg_trans_price_o]\n",
    "})\n",
    "\n",
    "gender_purchase_analysis['Average Purchase Price'] = gender_purchase_analysis['Average Purchase Price'].map(\"{:.2f}\".format)\n",
    "gender_purchase_analysis['Total Purchase Value'] = gender_purchase_analysis['Total Purchase Value'].map(\"${:.2f}\".format)\n",
    "gender_purchase_analysis['Avg Total Purchase per Person'] = gender_purchase_analysis['Avg Total Purchase per Person'].map(\"${:.2f}\".format)\n",
    "\n",
    "gender_purchase_analysis.set_index('Gender',inplace=True)\n",
    "del gender_purchase_analysis.index.name\n",
    "gender_purchase_analysis"
   ]
  },
  {
   "cell_type": "markdown",
   "metadata": {},
   "source": [
    "## Age Demographics"
   ]
  },
  {
   "cell_type": "markdown",
   "metadata": {},
   "source": [
    "* Establish bins for ages\n",
    "\n",
    "\n",
    "* Categorize the existing players using the age bins. Hint: use pd.cut()\n",
    "\n",
    "\n",
    "* Calculate the numbers and percentages by age group\n",
    "\n",
    "\n",
    "* Create a summary data frame to hold the results\n",
    "\n",
    "\n",
    "* Optional: round the percentage column to two decimal points\n",
    "\n",
    "\n",
    "* Display Age Demographics Table\n"
   ]
  },
  {
   "cell_type": "markdown",
   "metadata": {},
   "source": [
    "## Purchasing Analysis (Age)"
   ]
  },
  {
   "cell_type": "markdown",
   "metadata": {},
   "source": [
    "* Bin the purchase_data data frame by age\n",
    "\n",
    "\n",
    "* Run basic calculations to obtain purchase count, avg. purchase price, avg. purchase total per person etc. in the table below\n",
    "\n",
    "\n",
    "* Create a summary data frame to hold the results\n",
    "\n",
    "\n",
    "* Optional: give the displayed data cleaner formatting\n",
    "\n",
    "\n",
    "* Display the summary data frame"
   ]
  },
  {
   "cell_type": "code",
   "execution_count": null,
   "metadata": {},
   "outputs": [],
   "source": [
    "#Create bins to place age groups\n",
    "bins =[0,9,14.9,19.9, 24.9, 29.9, 34.9, 39.9, 100 ]\n",
    "\n",
    "# Create labels for these bins\n",
    "group_labels = [\"<10\", \"10 - 14\", \"15 - 19\", \"20 - 24\", \"25 - 29\", \"30 - 34\",\"35 - 39\", \"40+\"]\n",
    "\n",
    "#Copy Heroes data into new dataframe\n",
    "AgeAnalysis_df = pd.DataFrame(heroes_data_df)\n",
    "\n",
    "# Slice the data and place it into bins\n",
    "AgeAnalysis_df[\"Age Group\"] = pd.cut(AgeAnalysis_df[\"Age\"], bins, labels=group_labels)\n",
    "#heroes_data_df.head()\n",
    "\n",
    "# Create a GroupBy object based upon \"View Group\"\n",
    "AgeAnalysis_df = AgeAnalysis_df.groupby(\"Age Group\")['SN']\n",
    "\n",
    "# Find how many rows fall into each bin\n",
    "players_cnts = AgeAnalysis_df.nunique()\n",
    "player_perc = (players_cnts/Total_Players)*100\n",
    "Demographics_summ = pd.DataFrame({\n",
    "        'Total Count':players_cnts,\n",
    "        'Percentage of Players':player_perc\n",
    "})\n",
    "\n",
    "# Get the average of each column within the GroupBy object\n",
    "Demographics_summ['Percentage of Players'] = Demographics_summ['Percentage of Players'].map(\"{:.2f}\".format)\n",
    "\n",
    "# Delete index name to improve formatting\n",
    "del Demographics_summ.index.name\n",
    "Demographics_summ "
   ]
  },
  {
   "cell_type": "markdown",
   "metadata": {},
   "source": [
    "## Top Spenders"
   ]
  },
  {
   "cell_type": "markdown",
   "metadata": {},
   "source": [
    "* Run basic calculations to obtain the results in the table below\n",
    "\n",
    "\n",
    "* Create a summary data frame to hold the results\n",
    "\n",
    "\n",
    "* Sort the total purchase value column in descending order\n",
    "\n",
    "\n",
    "* Optional: give the displayed data cleaner formatting\n",
    "\n",
    "\n",
    "* Display a preview of the summary data frame\n",
    "\n"
   ]
  },
  {
   "cell_type": "code",
   "execution_count": null,
   "metadata": {},
   "outputs": [],
   "source": [
    "age_trans_df=pd.DataFrame(heroes_data_df)\n",
    "age_trans_df = age_trans_df.groupby(\"Age Group\")['Price'].agg([\"count\",\"mean\",\"sum\"])\n",
    "age_trans_df = pd.DataFrame(age_trans_df)\n",
    "age_trans_df = age_trans_df.rename(columns={'count':'Puchase Count',\n",
    "                                                                   'mean':'Average Purchase Price',\n",
    "                                                                   'sum':'Total Purchase Value'})\n",
    "age_trans_df['Average Purchase Price'] = age_trans_df['Average Purchase Price'].map(\"${:.2f}\".format)\n",
    "age_trans_df['Total Purchase Value'] = age_trans_df['Total Purchase Value'].map(\"${:.2f}\".format)\n",
    "del age_trans_df.index.name\n",
    "age_trans_df "
   ]
  },
  {
   "cell_type": "markdown",
   "metadata": {},
   "source": [
    "## Most Popular Items"
   ]
  },
  {
   "cell_type": "markdown",
   "metadata": {},
   "source": [
    "* Retrieve the Item ID, Item Name, and Item Price columns\n",
    "\n",
    "\n",
    "* Group by Item ID and Item Name. Perform calculations to obtain purchase count, item price, and total purchase value\n",
    "\n",
    "\n",
    "* Create a summary data frame to hold the results\n",
    "\n",
    "\n",
    "* Sort the purchase count column in descending order\n",
    "\n",
    "\n",
    "* Optional: give the displayed data cleaner formatting\n",
    "\n",
    "\n",
    "* Display a preview of the summary data frame\n",
    "\n"
   ]
  },
  {
   "cell_type": "code",
   "execution_count": null,
   "metadata": {},
   "outputs": [],
   "source": [
    "# Use groupby and sort to pull most frequently bought items to the top of list\n",
    "TopPopItems_df = heroes_data_df.groupby(['Item ID','Item Name','Price'])['Price'].agg(['count','sum'])\n",
    "TopPopItems_df = TopPopItems_df.sort_values('count',ascending=False).reset_index()\n",
    "TopPopItems_df = TopPopItems_df.set_index(['Item ID','Item Name'])\n",
    "\n",
    "TopPopItems_df = TopPopItems_df.rename(columns = {'count':'Purchase Count',\n",
    "                                           'sum':'Total Purchase Value',\n",
    "                                           'Price': 'Item Price'})\n",
    "TopPopItems_df.head()"
   ]
  },
  {
   "cell_type": "markdown",
   "metadata": {},
   "source": [
    "## Most Profitable Items"
   ]
  },
  {
   "cell_type": "markdown",
   "metadata": {},
   "source": [
    "* Sort the above table by total purchase value in descending order\n",
    "\n",
    "\n",
    "* Optional: give the displayed data cleaner formatting\n",
    "\n",
    "\n",
    "* Display a preview of the data frame\n",
    "\n"
   ]
  },
  {
   "cell_type": "code",
   "execution_count": null,
   "metadata": {
    "scrolled": true
   },
   "outputs": [],
   "source": [
    "MostProfitableItems = TopPopItems_df.sort_values('Total Purchase Value',ascending=False)\n",
    "MostProfitableItems.head()"
   ]
  },
  {
   "cell_type": "code",
   "execution_count": null,
   "metadata": {},
   "outputs": [],
   "source": []
  }
 ],
 "metadata": {
  "anaconda-cloud": {},
  "kernel_info": {
   "name": "python3"
  },
  "kernelspec": {
   "display_name": "Python 3",
   "language": "python",
   "name": "python3"
  },
  "language_info": {
   "codemirror_mode": {
    "name": "ipython",
    "version": 3
   },
   "file_extension": ".py",
   "mimetype": "text/x-python",
   "name": "python",
   "nbconvert_exporter": "python",
   "pygments_lexer": "ipython3",
   "version": "3.7.4"
  },
  "latex_envs": {
   "LaTeX_envs_menu_present": true,
   "autoclose": false,
   "autocomplete": true,
   "bibliofile": "biblio.bib",
   "cite_by": "apalike",
   "current_citInitial": 1,
   "eqLabelWithNumbers": true,
   "eqNumInitial": 1,
   "hotkeys": {
    "equation": "Ctrl-E",
    "itemize": "Ctrl-I"
   },
   "labels_anchors": false,
   "latex_user_defs": false,
   "report_style_numbering": false,
   "user_envs_cfg": false
  },
  "nteract": {
   "version": "0.2.0"
  }
 },
 "nbformat": 4,
 "nbformat_minor": 2
}
